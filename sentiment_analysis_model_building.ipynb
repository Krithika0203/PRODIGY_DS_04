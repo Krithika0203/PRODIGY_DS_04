{
 "cells": [
  {
   "cell_type": "code",
   "execution_count": 1,
   "id": "a2f3fef6-aac1-40e4-9a57-c6ccf47d6136",
   "metadata": {},
   "outputs": [],
   "source": [
    "import pandas as pd\n",
    "import numpy as np\n",
    "import matplotlib.pyplot as plt\n",
    "import seaborn as sns"
   ]
  },
  {
   "cell_type": "code",
   "execution_count": 2,
   "id": "3a72acdb-ef53-436d-bb01-51bc19392ca8",
   "metadata": {},
   "outputs": [],
   "source": [
    "df = pd.read_csv(\"twitter_training.csv\", header=None)\n",
    "df.columns = [\"ID\", \"Game\", \"Sentiment\", \"Tweet\"]\n"
   ]
  },
  {
   "cell_type": "code",
   "execution_count": 3,
   "id": "af23ad50-07b9-4737-a319-6c17f1547af1",
   "metadata": {},
   "outputs": [
    {
     "data": {
      "text/html": [
       "<div>\n",
       "<style scoped>\n",
       "    .dataframe tbody tr th:only-of-type {\n",
       "        vertical-align: middle;\n",
       "    }\n",
       "\n",
       "    .dataframe tbody tr th {\n",
       "        vertical-align: top;\n",
       "    }\n",
       "\n",
       "    .dataframe thead th {\n",
       "        text-align: right;\n",
       "    }\n",
       "</style>\n",
       "<table border=\"1\" class=\"dataframe\">\n",
       "  <thead>\n",
       "    <tr style=\"text-align: right;\">\n",
       "      <th></th>\n",
       "      <th>ID</th>\n",
       "      <th>Game</th>\n",
       "      <th>Sentiment</th>\n",
       "      <th>Tweet</th>\n",
       "    </tr>\n",
       "  </thead>\n",
       "  <tbody>\n",
       "    <tr>\n",
       "      <th>0</th>\n",
       "      <td>2401</td>\n",
       "      <td>Borderlands</td>\n",
       "      <td>Positive</td>\n",
       "      <td>im getting on borderlands and i will murder yo...</td>\n",
       "    </tr>\n",
       "    <tr>\n",
       "      <th>1</th>\n",
       "      <td>2401</td>\n",
       "      <td>Borderlands</td>\n",
       "      <td>Positive</td>\n",
       "      <td>I am coming to the borders and I will kill you...</td>\n",
       "    </tr>\n",
       "    <tr>\n",
       "      <th>2</th>\n",
       "      <td>2401</td>\n",
       "      <td>Borderlands</td>\n",
       "      <td>Positive</td>\n",
       "      <td>im getting on borderlands and i will kill you ...</td>\n",
       "    </tr>\n",
       "    <tr>\n",
       "      <th>3</th>\n",
       "      <td>2401</td>\n",
       "      <td>Borderlands</td>\n",
       "      <td>Positive</td>\n",
       "      <td>im coming on borderlands and i will murder you...</td>\n",
       "    </tr>\n",
       "    <tr>\n",
       "      <th>4</th>\n",
       "      <td>2401</td>\n",
       "      <td>Borderlands</td>\n",
       "      <td>Positive</td>\n",
       "      <td>im getting on borderlands 2 and i will murder ...</td>\n",
       "    </tr>\n",
       "  </tbody>\n",
       "</table>\n",
       "</div>"
      ],
      "text/plain": [
       "     ID         Game Sentiment  \\\n",
       "0  2401  Borderlands  Positive   \n",
       "1  2401  Borderlands  Positive   \n",
       "2  2401  Borderlands  Positive   \n",
       "3  2401  Borderlands  Positive   \n",
       "4  2401  Borderlands  Positive   \n",
       "\n",
       "                                               Tweet  \n",
       "0  im getting on borderlands and i will murder yo...  \n",
       "1  I am coming to the borders and I will kill you...  \n",
       "2  im getting on borderlands and i will kill you ...  \n",
       "3  im coming on borderlands and i will murder you...  \n",
       "4  im getting on borderlands 2 and i will murder ...  "
      ]
     },
     "execution_count": 3,
     "metadata": {},
     "output_type": "execute_result"
    }
   ],
   "source": [
    "df.head()"
   ]
  },
  {
   "cell_type": "code",
   "execution_count": 4,
   "id": "2701bd72-340c-4f2f-8e54-378a89c8e0e4",
   "metadata": {},
   "outputs": [
    {
     "data": {
      "text/plain": [
       "Index(['ID', 'Game', 'Sentiment', 'Tweet'], dtype='object')"
      ]
     },
     "execution_count": 4,
     "metadata": {},
     "output_type": "execute_result"
    }
   ],
   "source": [
    "df.columns"
   ]
  },
  {
   "cell_type": "code",
   "execution_count": 5,
   "id": "84815746-c587-4601-893a-e596880ffc3d",
   "metadata": {},
   "outputs": [
    {
     "name": "stdout",
     "output_type": "stream",
     "text": [
      "Remaining column names: Index(['Sentiment', 'Tweet'], dtype='object')\n",
      "  Sentiment                                              Tweet\n",
      "0  Positive  im getting on borderlands and i will murder yo...\n",
      "1  Positive  I am coming to the borders and I will kill you...\n",
      "2  Positive  im getting on borderlands and i will kill you ...\n",
      "3  Positive  im coming on borderlands and i will murder you...\n",
      "4  Positive  im getting on borderlands 2 and i will murder ...\n"
     ]
    }
   ],
   "source": [
    "# Drop the specified columns\n",
    "df.drop(columns=[\"ID\", \"Game\"], inplace=True)\n",
    "\n",
    "# Verify the remaining columns\n",
    "print(\"Remaining column names:\", df.columns)\n",
    "print(df.head())\n"
   ]
  },
  {
   "cell_type": "code",
   "execution_count": 6,
   "id": "ae1a4df3-428f-4e91-ad93-00120395faaa",
   "metadata": {},
   "outputs": [
    {
     "data": {
      "image/png": "[encoded data removed]",
      "text/plain": [
       "<Figure size 800x600 with 1 Axes>"
      ]
     },
     "metadata": {},
     "output_type": "display_data"
    }
   ],
   "source": [
    "plt.figure(figsize=(8, 6))\n",
    "df[\"Sentiment\"].value_counts().plot(kind='barh', color='g')\n",
    "plt.xlabel(\"Count\")\n",
    "plt.ylabel(\"Sentiment\")\n",
    "plt.title(\"Distribution of Sentiments in Reviews\")\n",
    "plt.show()"
   ]
  },
  {
   "cell_type": "code",
   "execution_count": 7,
   "id": "1a88c34b-fc8e-45f1-86a3-344376f87e2b",
   "metadata": {},
   "outputs": [
    {
     "data": {
      "text/html": [
       "<div>\n",
       "<style scoped>\n",
       "    .dataframe tbody tr th:only-of-type {\n",
       "        vertical-align: middle;\n",
       "    }\n",
       "\n",
       "    .dataframe tbody tr th {\n",
       "        vertical-align: top;\n",
       "    }\n",
       "\n",
       "    .dataframe thead th {\n",
       "        text-align: right;\n",
       "    }\n",
       "</style>\n",
       "<table border=\"1\" class=\"dataframe\">\n",
       "  <thead>\n",
       "    <tr style=\"text-align: right;\">\n",
       "      <th></th>\n",
       "      <th>Sentiment</th>\n",
       "      <th>Tweet</th>\n",
       "    </tr>\n",
       "  </thead>\n",
       "  <tbody>\n",
       "    <tr>\n",
       "      <th>0</th>\n",
       "      <td>Positive</td>\n",
       "      <td>im getting on borderlands and i will murder yo...</td>\n",
       "    </tr>\n",
       "    <tr>\n",
       "      <th>1</th>\n",
       "      <td>Positive</td>\n",
       "      <td>I am coming to the borders and I will kill you...</td>\n",
       "    </tr>\n",
       "    <tr>\n",
       "      <th>2</th>\n",
       "      <td>Positive</td>\n",
       "      <td>im getting on borderlands and i will kill you ...</td>\n",
       "    </tr>\n",
       "    <tr>\n",
       "      <th>3</th>\n",
       "      <td>Positive</td>\n",
       "      <td>im coming on borderlands and i will murder you...</td>\n",
       "    </tr>\n",
       "    <tr>\n",
       "      <th>4</th>\n",
       "      <td>Positive</td>\n",
       "      <td>im getting on borderlands 2 and i will murder ...</td>\n",
       "    </tr>\n",
       "  </tbody>\n",
       "</table>\n",
       "</div>"
      ],
      "text/plain": [
       "  Sentiment                                              Tweet\n",
       "0  Positive  im getting on borderlands and i will murder yo...\n",
       "1  Positive  I am coming to the borders and I will kill you...\n",
       "2  Positive  im getting on borderlands and i will kill you ...\n",
       "3  Positive  im coming on borderlands and i will murder you...\n",
       "4  Positive  im getting on borderlands 2 and i will murder ..."
      ]
     },
     "execution_count": 7,
     "metadata": {},
     "output_type": "execute_result"
    }
   ],
   "source": [
    "df.head()"
   ]
  },
  {
   "cell_type": "code",
   "execution_count": 8,
   "id": "b935d8e1-e45c-4d57-a970-93c0ff3198c6",
   "metadata": {},
   "outputs": [
    {
     "data": {
      "text/plain": [
       "Negative      22542\n",
       "Positive      20832\n",
       "Neutral       18318\n",
       "Irrelevant    12990\n",
       "Name: Sentiment, dtype: int64"
      ]
     },
     "execution_count": 8,
     "metadata": {},
     "output_type": "execute_result"
    }
   ],
   "source": [
    "sentiment_counts = df['Sentiment'].value_counts()\n",
    "sentiment_counts"
   ]
  },
  {
   "cell_type": "code",
   "execution_count": 9,
   "id": "12338d89-b308-40f1-bacb-4f3487a24d85",
   "metadata": {},
   "outputs": [
    {
     "name": "stdout",
     "output_type": "stream",
     "text": [
      "Unique sentiment values after mapping: ['Positive' 'Neutral' 'Negative']\n"
     ]
    }
   ],
   "source": [
    "# Define the mapping\n",
    "sentiment_mapping = {\n",
    "    'Positive': 'Positive',\n",
    "    'Negative': 'Negative',\n",
    "    'Neutral': 'Neutral'\n",
    "}\n",
    "\n",
    "# Apply the mapping\n",
    "df['Sentiment'] = df['Sentiment'].map(sentiment_mapping)\n",
    "\n",
    "# Drop any rows with NaN values that may have been introduced by mapping\n",
    "df.dropna(subset=['Sentiment'], inplace=True)\n",
    "\n",
    "# Check the unique sentiment values again\n",
    "print(\"Unique sentiment values after mapping:\", df['Sentiment'].unique())"
   ]
  },
  {
   "cell_type": "markdown",
   "id": "1df1d03e-d82c-4055-9168-05e2a56b0654",
   "metadata": {},
   "source": [
    "### We can see that it is equally split so no need for SMOTE"
   ]
  },
  {
   "cell_type": "code",
   "execution_count": 10,
   "id": "cfb29e7d-87aa-4740-ade2-24fc6d54e92f",
   "metadata": {},
   "outputs": [
    {
     "name": "stdout",
     "output_type": "stream",
     "text": [
      "WARNING:tensorflow:From C:\\Users\\User\\AppData\\Local\\Programs\\Python\\Python310\\lib\\site-packages\\keras\\src\\losses.py:2976: The name tf.losses.sparse_softmax_cross_entropy is deprecated. Please use tf.compat.v1.losses.sparse_softmax_cross_entropy instead.\n",
      "\n"
     ]
    }
   ],
   "source": [
    "import pandas as pd\n",
    "import numpy as np\n",
    "from sklearn.model_selection import train_test_split\n",
    "from sklearn.feature_extraction.text import TfidfVectorizer\n",
    "from sklearn.preprocessing import LabelEncoder\n",
    "from tensorflow.keras.models import Sequential\n",
    "from tensorflow.keras.layers import Dense, Dropout\n",
    "from tensorflow.keras.utils import to_categorical\n",
    "from tensorflow.keras.optimizers import Adam\n"
   ]
  },
  {
   "cell_type": "code",
   "execution_count": 11,
   "id": "49a4f616-e0e2-4164-8964-85a8400897a2",
   "metadata": {},
   "outputs": [
    {
     "name": "stdout",
     "output_type": "stream",
     "text": [
      "Encoded sentiment values: [2 1 0]\n"
     ]
    }
   ],
   "source": [
    "from sklearn.preprocessing import LabelEncoder\n",
    "\n",
    "# Encode the target labels\n",
    "label_encoder = LabelEncoder()\n",
    "df['Sentiment'] = label_encoder.fit_transform(df['Sentiment'])\n",
    "\n",
    "# Check the unique values after encoding\n",
    "print(\"Encoded sentiment values:\", df['Sentiment'].unique())\n"
   ]
  },
  {
   "cell_type": "code",
   "execution_count": 12,
   "id": "5668cb2e-59bc-4d3b-930f-347498352b86",
   "metadata": {},
   "outputs": [
    {
     "data": {
      "text/html": [
       "<div>\n",
       "<style scoped>\n",
       "    .dataframe tbody tr th:only-of-type {\n",
       "        vertical-align: middle;\n",
       "    }\n",
       "\n",
       "    .dataframe tbody tr th {\n",
       "        vertical-align: top;\n",
       "    }\n",
       "\n",
       "    .dataframe thead th {\n",
       "        text-align: right;\n",
       "    }\n",
       "</style>\n",
       "<table border=\"1\" class=\"dataframe\">\n",
       "  <thead>\n",
       "    <tr style=\"text-align: right;\">\n",
       "      <th></th>\n",
       "      <th>Sentiment</th>\n",
       "      <th>Tweet</th>\n",
       "    </tr>\n",
       "  </thead>\n",
       "  <tbody>\n",
       "    <tr>\n",
       "      <th>0</th>\n",
       "      <td>2</td>\n",
       "      <td>im getting on borderlands and i will murder yo...</td>\n",
       "    </tr>\n",
       "    <tr>\n",
       "      <th>1</th>\n",
       "      <td>2</td>\n",
       "      <td>I am coming to the borders and I will kill you...</td>\n",
       "    </tr>\n",
       "    <tr>\n",
       "      <th>2</th>\n",
       "      <td>2</td>\n",
       "      <td>im getting on borderlands and i will kill you ...</td>\n",
       "    </tr>\n",
       "    <tr>\n",
       "      <th>3</th>\n",
       "      <td>2</td>\n",
       "      <td>im coming on borderlands and i will murder you...</td>\n",
       "    </tr>\n",
       "    <tr>\n",
       "      <th>4</th>\n",
       "      <td>2</td>\n",
       "      <td>im getting on borderlands 2 and i will murder ...</td>\n",
       "    </tr>\n",
       "  </tbody>\n",
       "</table>\n",
       "</div>"
      ],
      "text/plain": [
       "   Sentiment                                              Tweet\n",
       "0          2  im getting on borderlands and i will murder yo...\n",
       "1          2  I am coming to the borders and I will kill you...\n",
       "2          2  im getting on borderlands and i will kill you ...\n",
       "3          2  im coming on borderlands and i will murder you...\n",
       "4          2  im getting on borderlands 2 and i will murder ..."
      ]
     },
     "execution_count": 12,
     "metadata": {},
     "output_type": "execute_result"
    }
   ],
   "source": [
    "df.head()"
   ]
  },
  {
   "cell_type": "code",
   "execution_count": 13,
   "id": "47550368-51de-44ee-96a4-b65526be1dbb",
   "metadata": {},
   "outputs": [],
   "source": [
    "from sklearn.feature_extraction.text import TfidfVectorizer\n",
    "from tensorflow.keras.utils import to_categorical\n",
    "df.dropna(subset=['Tweet'], inplace=True)\n",
    "# Vectorize the tweets using TF-IDF\n",
    "tfidf_vectorizer = TfidfVectorizer(max_features=5000)\n",
    "X = tfidf_vectorizer.fit_transform(df['Tweet']).toarray()\n",
    "\n",
    "# Target labels\n",
    "y = df['Sentiment']\n",
    "y = to_categorical(y, num_classes=3)  # One-hot encoding"
   ]
  },
  {
   "cell_type": "code",
   "execution_count": 14,
   "id": "77ff7826-ac81-468c-889b-9f180359f33b",
   "metadata": {},
   "outputs": [],
   "source": [
    "X_train, X_test, y_train, y_test = train_test_split(X, y, test_size=0.2, random_state=42)"
   ]
  },
  {
   "cell_type": "code",
   "execution_count": 15,
   "id": "375cc6e7-260a-4d42-94ea-5236354474e2",
   "metadata": {},
   "outputs": [
    {
     "name": "stdout",
     "output_type": "stream",
     "text": [
      "WARNING:tensorflow:From C:\\Users\\User\\AppData\\Local\\Programs\\Python\\Python310\\lib\\site-packages\\keras\\src\\backend.py:873: The name tf.get_default_graph is deprecated. Please use tf.compat.v1.get_default_graph instead.\n",
      "\n",
      "WARNING:tensorflow:From C:\\Users\\User\\AppData\\Local\\Programs\\Python\\Python310\\lib\\site-packages\\keras\\src\\optimizers\\__init__.py:309: The name tf.train.Optimizer is deprecated. Please use tf.compat.v1.train.Optimizer instead.\n",
      "\n",
      "Epoch 1/10\n",
      "WARNING:tensorflow:From C:\\Users\\User\\AppData\\Local\\Programs\\Python\\Python310\\lib\\site-packages\\keras\\src\\utils\\tf_utils.py:492: The name tf.ragged.RaggedTensorValue is deprecated. Please use tf.compat.v1.ragged.RaggedTensorValue instead.\n",
      "\n",
      "WARNING:tensorflow:From C:\\Users\\User\\AppData\\Local\\Programs\\Python\\Python310\\lib\\site-packages\\keras\\src\\engine\\base_layer_utils.py:384: The name tf.executing_eagerly_outside_functions is deprecated. Please use tf.compat.v1.executing_eagerly_outside_functions instead.\n",
      "\n",
      "1223/1223 [==============================] - 73s 58ms/step - loss: 0.6644 - accuracy: 0.7185 - val_loss: 0.4641 - val_accuracy: 0.8175\n",
      "Epoch 2/10\n",
      "1223/1223 [==============================] - 72s 59ms/step - loss: 0.3032 - accuracy: 0.8863 - val_loss: 0.2947 - val_accuracy: 0.8881\n",
      "Epoch 3/10\n",
      "1223/1223 [==============================] - 86s 70ms/step - loss: 0.1536 - accuracy: 0.9422 - val_loss: 0.2432 - val_accuracy: 0.9098\n",
      "Epoch 4/10\n",
      "1223/1223 [==============================] - 91s 74ms/step - loss: 0.1029 - accuracy: 0.9581 - val_loss: 0.2453 - val_accuracy: 0.9122\n",
      "Epoch 5/10\n",
      "1223/1223 [==============================] - 58s 47ms/step - loss: 0.0846 - accuracy: 0.9634 - val_loss: 0.2479 - val_accuracy: 0.9162\n",
      "Epoch 6/10\n",
      "1223/1223 [==============================] - 58s 47ms/step - loss: 0.0747 - accuracy: 0.9664 - val_loss: 0.2605 - val_accuracy: 0.9182\n",
      "Epoch 7/10\n",
      "1223/1223 [==============================] - 99s 81ms/step - loss: 0.0699 - accuracy: 0.9676 - val_loss: 0.2693 - val_accuracy: 0.9158\n",
      "Epoch 8/10\n",
      "1223/1223 [==============================] - 99s 81ms/step - loss: 0.0677 - accuracy: 0.9683 - val_loss: 0.2730 - val_accuracy: 0.9190\n",
      "Epoch 9/10\n",
      "1223/1223 [==============================] - 117s 96ms/step - loss: 0.0651 - accuracy: 0.9695 - val_loss: 0.2709 - val_accuracy: 0.9178\n",
      "Epoch 10/10\n",
      "1223/1223 [==============================] - 66s 54ms/step - loss: 0.0620 - accuracy: 0.9713 - val_loss: 0.2784 - val_accuracy: 0.9155\n"
     ]
    },
    {
     "data": {
      "text/plain": [
       "<keras.src.callbacks.History at 0x1d7b5125750>"
      ]
     },
     "execution_count": 15,
     "metadata": {},
     "output_type": "execute_result"
    }
   ],
   "source": [
    "# Define the neural network model\n",
    "model = Sequential()\n",
    "model.add(Dense(512, input_dim=X_train.shape[1], activation='relu'))\n",
    "model.add(Dropout(0.5))\n",
    "model.add(Dense(256, activation='relu'))\n",
    "model.add(Dropout(0.5))\n",
    "model.add(Dense(3, activation='softmax'))  # 3 classes\n",
    "\n",
    "# Compile the model\n",
    "model.compile(loss='categorical_crossentropy', optimizer='adam', metrics=['accuracy'])\n",
    "\n",
    "# Train the model\n",
    "model.fit(X_train, y_train, epochs=10, batch_size=32, validation_split=0.2)"
   ]
  },
  {
   "cell_type": "code",
   "execution_count": 16,
   "id": "2eba1e4f-c8df-4fa7-b3e0-b884002395c6",
   "metadata": {},
   "outputs": [
    {
     "name": "stdout",
     "output_type": "stream",
     "text": [
      "383/383 [==============================] - 3s 8ms/step - loss: 0.2685 - accuracy: 0.9205\n",
      "Accuracy: 0.9204908013343811\n"
     ]
    }
   ],
   "source": [
    "loss, accuracy = model.evaluate(X_test, y_test)\n",
    "print(\"Accuracy:\", accuracy)"
   ]
  },
  {
   "cell_type": "code",
   "execution_count": 17,
   "id": "13fef00f-85dc-4687-a14f-d59075763e37",
   "metadata": {},
   "outputs": [
    {
     "name": "stdout",
     "output_type": "stream",
     "text": [
      "383/383 [==============================] - 3s 8ms/step\n",
      "Predictions:\n",
      " [[5.7822061e-05 9.9983919e-01 1.0298286e-04]\n",
      " [7.3714438e-03 9.9067420e-01 1.9544244e-03]\n",
      " [1.0000000e+00 1.1696217e-09 5.7151115e-09]\n",
      " ...\n",
      " [9.9999833e-01 2.5247202e-08 1.7077818e-06]\n",
      " [1.2145317e-03 9.9744248e-01 1.3430038e-03]\n",
      " [9.9861729e-01 6.6078204e-04 7.2192214e-04]]\n"
     ]
    }
   ],
   "source": [
    "# Example predictions\n",
    "predictions = model.predict(X_test)\n",
    "print(\"Predictions:\\n\", predictions)"
   ]
  },
  {
   "cell_type": "code",
   "execution_count": 18,
   "id": "954ad29b-5caf-46d9-acc7-0c9193d8e5e4",
   "metadata": {},
   "outputs": [
    {
     "data": {
      "image/png": "[encoded data removed]",
      "text/plain": [
       "<Figure size 800x600 with 1 Axes>"
      ]
     },
     "metadata": {},
     "output_type": "display_data"
    }
   ],
   "source": [
    "import matplotlib.pyplot as plt\n",
    "\n",
    "# Plot Sentiment Distribution\n",
    "plt.figure(figsize=(8, 6))\n",
    "df[\"Sentiment\"].value_counts().plot(kind='barh', color='g')\n",
    "plt.xlabel(\"Count\")\n",
    "plt.ylabel(\"Sentiment\")\n",
    "plt.title(\"Distribution of Sentiments in Reviews\")\n",
    "plt.show()"
   ]
  },
  {
   "cell_type": "code",
   "execution_count": 19,
   "id": "41a690ee-7159-4783-932e-c0147883ef95",
   "metadata": {},
   "outputs": [
    {
     "data": {
      "text/html": [
       "<div>\n",
       "<style scoped>\n",
       "    .dataframe tbody tr th:only-of-type {\n",
       "        vertical-align: middle;\n",
       "    }\n",
       "\n",
       "    .dataframe tbody tr th {\n",
       "        vertical-align: top;\n",
       "    }\n",
       "\n",
       "    .dataframe thead th {\n",
       "        text-align: right;\n",
       "    }\n",
       "</style>\n",
       "<table border=\"1\" class=\"dataframe\">\n",
       "  <thead>\n",
       "    <tr style=\"text-align: right;\">\n",
       "      <th></th>\n",
       "      <th>ID</th>\n",
       "      <th>Game</th>\n",
       "      <th>Sentiment</th>\n",
       "      <th>Tweet</th>\n",
       "    </tr>\n",
       "  </thead>\n",
       "  <tbody>\n",
       "    <tr>\n",
       "      <th>0</th>\n",
       "      <td>3364</td>\n",
       "      <td>Facebook</td>\n",
       "      <td>Irrelevant</td>\n",
       "      <td>I mentioned on Facebook that I was struggling ...</td>\n",
       "    </tr>\n",
       "    <tr>\n",
       "      <th>1</th>\n",
       "      <td>352</td>\n",
       "      <td>Amazon</td>\n",
       "      <td>Neutral</td>\n",
       "      <td>BBC News - Amazon boss Jeff Bezos rejects clai...</td>\n",
       "    </tr>\n",
       "    <tr>\n",
       "      <th>2</th>\n",
       "      <td>8312</td>\n",
       "      <td>Microsoft</td>\n",
       "      <td>Negative</td>\n",
       "      <td>@Microsoft Why do I pay for WORD when it funct...</td>\n",
       "    </tr>\n",
       "    <tr>\n",
       "      <th>3</th>\n",
       "      <td>4371</td>\n",
       "      <td>CS-GO</td>\n",
       "      <td>Negative</td>\n",
       "      <td>CSGO matchmaking is so full of closet hacking,...</td>\n",
       "    </tr>\n",
       "    <tr>\n",
       "      <th>4</th>\n",
       "      <td>4433</td>\n",
       "      <td>Google</td>\n",
       "      <td>Neutral</td>\n",
       "      <td>Now the President is slapping Americans in the...</td>\n",
       "    </tr>\n",
       "  </tbody>\n",
       "</table>\n",
       "</div>"
      ],
      "text/plain": [
       "     ID       Game   Sentiment  \\\n",
       "0  3364   Facebook  Irrelevant   \n",
       "1   352     Amazon     Neutral   \n",
       "2  8312  Microsoft    Negative   \n",
       "3  4371      CS-GO    Negative   \n",
       "4  4433     Google     Neutral   \n",
       "\n",
       "                                               Tweet  \n",
       "0  I mentioned on Facebook that I was struggling ...  \n",
       "1  BBC News - Amazon boss Jeff Bezos rejects clai...  \n",
       "2  @Microsoft Why do I pay for WORD when it funct...  \n",
       "3  CSGO matchmaking is so full of closet hacking,...  \n",
       "4  Now the President is slapping Americans in the...  "
      ]
     },
     "execution_count": 19,
     "metadata": {},
     "output_type": "execute_result"
    }
   ],
   "source": [
    "newdf = pd.read_csv(\"twitter_validation.csv\", header=None)\n",
    "newdf.columns = [\"ID\", \"Game\", \"Sentiment\", \"Tweet\"]\n",
    "newdf.head()"
   ]
  },
  {
   "cell_type": "code",
   "execution_count": 20,
   "id": "01534fce-0a5d-4cf8-84a8-7e98e24ca385",
   "metadata": {},
   "outputs": [
    {
     "name": "stdout",
     "output_type": "stream",
     "text": [
      "Remaining column names: Index(['Sentiment', 'Tweet'], dtype='object')\n",
      "    Sentiment                                              Tweet\n",
      "0  Irrelevant  I mentioned on Facebook that I was struggling ...\n",
      "1     Neutral  BBC News - Amazon boss Jeff Bezos rejects clai...\n",
      "2    Negative  @Microsoft Why do I pay for WORD when it funct...\n",
      "3    Negative  CSGO matchmaking is so full of closet hacking,...\n",
      "4     Neutral  Now the President is slapping Americans in the...\n"
     ]
    }
   ],
   "source": [
    "newdf.drop(columns=[\"ID\", \"Game\"], inplace=True)\n",
    "\n",
    "# Verify the remaining columns\n",
    "print(\"Remaining column names:\", df.columns)\n",
    "print(newdf.head())\n"
   ]
  },
  {
   "cell_type": "code",
   "execution_count": 21,
   "id": "2891667f-226c-462e-9680-2bd00cfeec74",
   "metadata": {},
   "outputs": [
    {
     "name": "stdout",
     "output_type": "stream",
     "text": [
      "Unique sentiment values after mapping: ['Neutral' 'Negative' 'Positive']\n"
     ]
    }
   ],
   "source": [
    "# Define the mapping\n",
    "sentiment_mapping = {\n",
    "    'Positive': 'Positive',\n",
    "    'Negative': 'Negative',\n",
    "    'Neutral': 'Neutral'\n",
    "}\n",
    "\n",
    "# Apply the mapping\n",
    "newdf['Sentiment'] = newdf['Sentiment'].map(sentiment_mapping)\n",
    "\n",
    "# Drop any rows with NaN values that may have been introduced by mapping\n",
    "newdf.dropna(subset=['Sentiment'], inplace=True)\n",
    "\n",
    "# Check the unique sentiment values again\n",
    "print(\"Unique sentiment values after mapping:\", newdf['Sentiment'].unique())"
   ]
  },
  {
   "cell_type": "code",
   "execution_count": 22,
   "id": "25951218-570b-458d-9bf3-faf030f4413f",
   "metadata": {},
   "outputs": [],
   "source": [
    "newdf['Sentiment'] = label_encoder.fit_transform(newdf['Sentiment'])\n"
   ]
  },
  {
   "cell_type": "code",
   "execution_count": 23,
   "id": "7751fee1-12b3-49ae-9e12-17c9d48d4116",
   "metadata": {},
   "outputs": [],
   "source": [
    "newdf.dropna(subset=['Tweet'], inplace=True)\n",
    "X = tfidf_vectorizer.fit_transform(newdf['Tweet']).toarray()\n",
    "# Target labels\n",
    "y = newdf['Sentiment']\n",
    "y = to_categorical(y, num_classes=3)  # One-hot encoding"
   ]
  },
  {
   "cell_type": "code",
   "execution_count": 24,
   "id": "ae4fee16-2582-495d-a094-2e2a7c45b937",
   "metadata": {},
   "outputs": [
    {
     "name": "stdout",
     "output_type": "stream",
     "text": [
      "Shape of X: (828, 4654)\n"
     ]
    }
   ],
   "source": [
    "print(\"Shape of X:\", X.shape) "
   ]
  },
  {
   "cell_type": "code",
   "execution_count": null,
   "id": "83dba88d-a93b-4623-b30f-6c9d0352fbfd",
   "metadata": {},
   "outputs": [],
   "source": []
  }
 ],
 "metadata": {
  "kernelspec": {
   "display_name": "Python 3 (ipykernel)",
   "language": "python",
   "name": "python3"
  },
  "language_info": {
   "codemirror_mode": {
    "name": "ipython",
    "version": 3
   },
   "file_extension": ".py",
   "mimetype": "text/x-python",
   "name": "python",
   "nbconvert_exporter": "python",
   "pygments_lexer": "ipython3",
   "version": "3.10.7"
  }
 },
 "nbformat": 4,
 "nbformat_minor": 5
}
